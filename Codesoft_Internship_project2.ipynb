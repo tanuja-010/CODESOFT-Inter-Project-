{
  "nbformat": 4,
  "nbformat_minor": 0,
  "metadata": {
    "colab": {
      "provenance": []
    },
    "kernelspec": {
      "name": "python3",
      "display_name": "Python 3"
    },
    "language_info": {
      "name": "python"
    }
  },
  "cells": [
    {
      "cell_type": "markdown",
      "source": [
        "# **Task No. 4 Rock-Paper-Scissors Game**"
      ],
      "metadata": {
        "id": "YnuHPYoLGcWC"
      }
    },
    {
      "cell_type": "code",
      "source": [],
      "metadata": {
        "id": "Z13GIcnEGvV4"
      },
      "execution_count": null,
      "outputs": []
    },
    {
      "cell_type": "code",
      "source": [
        "import random\n",
        "choice=['rock','paper','scissors']\n",
        "user_input=input('enter a input here:rock,paper,scissors:  ')\n",
        "print('user_input:',user_input)\n",
        "if user_input not in choice:\n",
        "  print('invalid')\n",
        "else:\n",
        "  com_choice=random.choice(choice)\n",
        "print('computer choice:',com_choice)\n",
        "if user_input== com_choice:\n",
        " print('its tie')\n",
        " print('if you want Try Again [press Ctrl+ENTER}')\n",
        "\n",
        "elif (user_input=='rock'and com_choice==\"scissors\")or(user_input=='scissors'and com_choice=='paper')or(user_input=='paper'and com_choice=='stone'):\n",
        "  print('YOU WON THE GAME')\n",
        "else:\n",
        "    print('YOU LOST,BETTER LUCK NEXT TIME')\n",
        "    print('if you want Try Again [press Ctrl+ENTER]')\n",
        "\n",
        "\n"
      ],
      "metadata": {
        "colab": {
          "base_uri": "https://localhost:8080/"
        },
        "id": "plxixqAJHJDz",
        "outputId": "3422d412-c8a3-4238-f274-8d9b191d659f"
      },
      "execution_count": null,
      "outputs": [
        {
          "output_type": "stream",
          "name": "stdout",
          "text": [
            "enter a input here:rock,paper,scissors:  scissors\n",
            "user_input: scissors\n",
            "computer choice: rock\n",
            "YOU LOST,BETTER LUCK NEXT TIME\n",
            "if you want Try Again [press Ctrl+ENTER]\n"
          ]
        }
      ]
    }
  ]
}