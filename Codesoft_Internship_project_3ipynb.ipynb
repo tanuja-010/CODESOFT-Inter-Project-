{
  "nbformat": 4,
  "nbformat_minor": 0,
  "metadata": {
    "colab": {
      "provenance": []
    },
    "kernelspec": {
      "name": "python3",
      "display_name": "Python 3"
    },
    "language_info": {
      "name": "python"
    }
  },
  "cells": [
    {
      "cell_type": "markdown",
      "source": [
        "# **Task 3**- **Password** **Generator**"
      ],
      "metadata": {
        "id": "aD7NKEp9DJti"
      }
    },
    {
      "cell_type": "code",
      "source": [
        "import random\n",
        "import string\n",
        "\n",
        "print('welcome to the password generator')\n",
        "n_letter = int(input('enter a number of letters: '))\n",
        "n_symbols = int(input('enter a number of symbols: '))\n",
        "n_numbers = int(input('enter a number of numbers: '))\n",
        "password_list = []\n",
        "\n",
        "\n",
        "for i in range(n_letter):\n",
        "\n",
        "    char1 = random.choice(string.ascii_letters)\n",
        "    password_list.append(char1)\n",
        "\n",
        "\n",
        "for i in range(n_symbols):\n",
        "    char1 = random.choice(string.punctuation)\n",
        "    password_list.append(char1)\n",
        "\n",
        "\n",
        "for i in range(n_numbers):\n",
        "    char1 = random.choice(string.digits)\n",
        "    password_list.append(char1)\n",
        "\n",
        "print(password_list)\n",
        "random.shuffle(password_list)\n",
        "print(password_list)\n",
        "\n",
        "password = ''\n",
        "for char1 in password_list:\n",
        "    password += char1\n",
        "\n",
        "print(password)"
      ],
      "metadata": {
        "id": "iLPN9_CLWTRW",
        "colab": {
          "base_uri": "https://localhost:8080/"
        },
        "outputId": "0dd09725-3af5-4cb6-9356-a98f833a70b2"
      },
      "execution_count": 1,
      "outputs": [
        {
          "output_type": "stream",
          "name": "stdout",
          "text": [
            "welcome to the password generator\n",
            "enter a number of letters: 3\n",
            "enter a number of symbols: 3\n",
            "enter a number of numbers: 3\n",
            "['M', 'S', 'B', ')', '|', ';', '3', '0', '7']\n",
            "['0', ';', 'B', '3', 'S', '7', 'M', ')', '|']\n",
            "0;B3S7M)|\n"
          ]
        }
      ]
    },
    {
      "cell_type": "code",
      "source": [],
      "metadata": {
        "id": "HE9DgdNxWTOg"
      },
      "execution_count": null,
      "outputs": []
    },
    {
      "cell_type": "code",
      "source": [],
      "metadata": {
        "id": "QYByVzl1WTLT"
      },
      "execution_count": null,
      "outputs": []
    },
    {
      "cell_type": "code",
      "source": [],
      "metadata": {
        "id": "_nqHGHcsWTIP"
      },
      "execution_count": null,
      "outputs": []
    },
    {
      "cell_type": "code",
      "source": [],
      "metadata": {
        "id": "3zflQr00WTE7"
      },
      "execution_count": null,
      "outputs": []
    },
    {
      "cell_type": "code",
      "source": [],
      "metadata": {
        "id": "XRwCGhG0WTB6"
      },
      "execution_count": null,
      "outputs": []
    },
    {
      "cell_type": "code",
      "source": [],
      "metadata": {
        "id": "N9ykuc0HWS76"
      },
      "execution_count": null,
      "outputs": []
    },
    {
      "cell_type": "code",
      "source": [],
      "metadata": {
        "id": "pGtYfPtiWS4Z"
      },
      "execution_count": null,
      "outputs": []
    },
    {
      "cell_type": "code",
      "source": [],
      "metadata": {
        "id": "Vog2iLgSeqo2"
      },
      "execution_count": null,
      "outputs": []
    },
    {
      "cell_type": "code",
      "source": [],
      "metadata": {
        "id": "k8sn2EFdeqlv"
      },
      "execution_count": null,
      "outputs": []
    },
    {
      "cell_type": "code",
      "source": [],
      "metadata": {
        "id": "k_eyIG1meqiv"
      },
      "execution_count": null,
      "outputs": []
    },
    {
      "cell_type": "code",
      "source": [],
      "metadata": {
        "id": "RuIctDH5eqfu"
      },
      "execution_count": null,
      "outputs": []
    },
    {
      "cell_type": "code",
      "source": [],
      "metadata": {
        "id": "3VyVYAWFeqc9"
      },
      "execution_count": null,
      "outputs": []
    },
    {
      "cell_type": "code",
      "source": [],
      "metadata": {
        "id": "kkFCPYOSeqZv"
      },
      "execution_count": null,
      "outputs": []
    },
    {
      "cell_type": "code",
      "source": [],
      "metadata": {
        "id": "SkIu2sp2eqW9"
      },
      "execution_count": null,
      "outputs": []
    },
    {
      "cell_type": "code",
      "source": [],
      "metadata": {
        "id": "vBjLz6_keqTx"
      },
      "execution_count": null,
      "outputs": []
    },
    {
      "cell_type": "code",
      "source": [],
      "metadata": {
        "id": "oQ4zWy-GeqQ7"
      },
      "execution_count": null,
      "outputs": []
    },
    {
      "cell_type": "code",
      "source": [],
      "metadata": {
        "id": "s3zCA2vMeqMw"
      },
      "execution_count": null,
      "outputs": []
    },
    {
      "cell_type": "code",
      "source": [],
      "metadata": {
        "id": "Xf-hSqZIeqJK"
      },
      "execution_count": null,
      "outputs": []
    },
    {
      "cell_type": "code",
      "source": [],
      "metadata": {
        "id": "h7KUiJJfeqFb"
      },
      "execution_count": null,
      "outputs": []
    },
    {
      "cell_type": "code",
      "source": [],
      "metadata": {
        "id": "NmC9iglqdCT-"
      },
      "execution_count": null,
      "outputs": []
    },
    {
      "cell_type": "code",
      "source": [],
      "metadata": {
        "id": "cZEVf2PjdCQy"
      },
      "execution_count": null,
      "outputs": []
    },
    {
      "cell_type": "code",
      "source": [],
      "metadata": {
        "id": "Lnewu4cbdCEQ"
      },
      "execution_count": null,
      "outputs": []
    },
    {
      "cell_type": "code",
      "source": [],
      "metadata": {
        "id": "PK_e-4-cdCBG"
      },
      "execution_count": null,
      "outputs": []
    },
    {
      "cell_type": "code",
      "source": [],
      "metadata": {
        "id": "ImtTwmkMdB36"
      },
      "execution_count": null,
      "outputs": []
    },
    {
      "cell_type": "code",
      "source": [],
      "metadata": {
        "id": "KSWVP1ZEdBo1"
      },
      "execution_count": null,
      "outputs": []
    }
  ]
}